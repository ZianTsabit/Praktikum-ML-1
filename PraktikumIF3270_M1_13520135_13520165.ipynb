{
  "cells": [
    {
      "cell_type": "markdown",
      "metadata": {
        "id": "IqRCrNfcPvGt"
      },
      "source": [
        "# Prediksi Hujan di Denpasar"
      ]
    },
    {
      "cell_type": "markdown",
      "metadata": {
        "id": "XfLBgMivPvGw"
      },
      "source": [
        "Praktikum ini menggunakan _dataset_ [Denpasar Weather Data](https://www.kaggle.com/datasets/cornflake15/denpasarbalihistoricalweatherdata?select=openweatherdata-denpasar-1990-2020v0.1.csv) dengan modifikasi. _Dataset_ digunakan untuk melakukan prediksi penarikan kesimpulan kebenaran kondisi hujan pada kondisi tertentu. Hal itu diperoleh dengan meninjau `raining` (diekstrak dari `weather_main`) sebagai target. Fitur yang digunakan adalah sebagai berikut:\n",
        "- `hour` (diekstrak dari `dt_iso`)\n",
        "- `temp`\n",
        "- `temp_min`\n",
        "- `temp_max`\n",
        "- `pressure`\n",
        "- `humidity`\n",
        "- `wind_speed`\n",
        "- `wind_deg`\n",
        "\n",
        "Tujuan praktikum:\n",
        "1.   Peserta memahami rangkaian proses analitik data menggunakan pendekatan pembelajaran mesin. \n",
        "2.   Peserta memahami bahwa proses pengembangan model pembelajaran mesin juga ditentukan dari kualitas data, penanganan data, dan penentuan algoritma serta hiperparameternya; tidak cukup hanya dengan memastikan implementasi algoritma berjalan tanpa kesalahan.\n",
        "3.   Peserta mampu menginterpretasikan hasil dari evaluasi model dalam proses analitik menggunakan pendekatan pembelajaran mesin.\n",
        "\n",
        "Praktikum dilaksanakan secara berkelompok. Setiap kelompok terdiri atas 2 mahasiswa. Perhatikan bahwa terdapat berkas yang harus dikumpulkan sebelum waktu praktikum selesai (17 April 2023, pukul 10.59 WIB) dan berkas yang dikumpulkan setelah waktu praktikum selesai (17 April 2023, pukul 23.59 WIB)."
      ]
    },
    {
      "cell_type": "markdown",
      "metadata": {
        "id": "J89UMHiQPvGy"
      },
      "source": [
        "# Persiapan Data"
      ]
    },
    {
      "cell_type": "code",
      "execution_count": 1,
      "metadata": {
        "id": "BTLAayzZPvGz"
      },
      "outputs": [],
      "source": [
        "import pandas as pd\n",
        "from sklearn.model_selection import train_test_split\n",
        "from sklearn.metrics import accuracy_score, confusion_matrix, classification_report, precision_score, recall_score, f1_score"
      ]
    },
    {
      "cell_type": "code",
      "execution_count": 2,
      "metadata": {
        "colab": {
          "base_uri": "https://localhost:8080/",
          "height": 423
        },
        "id": "DG-8-xm8PvG0",
        "outputId": "8876c075-d2e0-4603-95cf-925734bcd95a"
      },
      "outputs": [
        {
          "data": {
            "text/html": [
              "<div>\n",
              "<style scoped>\n",
              "    .dataframe tbody tr th:only-of-type {\n",
              "        vertical-align: middle;\n",
              "    }\n",
              "\n",
              "    .dataframe tbody tr th {\n",
              "        vertical-align: top;\n",
              "    }\n",
              "\n",
              "    .dataframe thead th {\n",
              "        text-align: right;\n",
              "    }\n",
              "</style>\n",
              "<table border=\"1\" class=\"dataframe\">\n",
              "  <thead>\n",
              "    <tr style=\"text-align: right;\">\n",
              "      <th></th>\n",
              "      <th>hour</th>\n",
              "      <th>temp</th>\n",
              "      <th>temp_min</th>\n",
              "      <th>temp_max</th>\n",
              "      <th>pressure</th>\n",
              "      <th>humidity</th>\n",
              "      <th>wind_speed</th>\n",
              "      <th>wind_deg</th>\n",
              "      <th>raining</th>\n",
              "    </tr>\n",
              "  </thead>\n",
              "  <tbody>\n",
              "    <tr>\n",
              "      <th>0</th>\n",
              "      <td>0</td>\n",
              "      <td>25.82</td>\n",
              "      <td>25.82</td>\n",
              "      <td>25.82</td>\n",
              "      <td>1010.0</td>\n",
              "      <td>86</td>\n",
              "      <td>1.36</td>\n",
              "      <td>225</td>\n",
              "      <td>True</td>\n",
              "    </tr>\n",
              "    <tr>\n",
              "      <th>1</th>\n",
              "      <td>1</td>\n",
              "      <td>26.20</td>\n",
              "      <td>26.20</td>\n",
              "      <td>26.20</td>\n",
              "      <td>1011.0</td>\n",
              "      <td>84</td>\n",
              "      <td>2.09</td>\n",
              "      <td>247</td>\n",
              "      <td>True</td>\n",
              "    </tr>\n",
              "    <tr>\n",
              "      <th>2</th>\n",
              "      <td>2</td>\n",
              "      <td>26.45</td>\n",
              "      <td>26.45</td>\n",
              "      <td>26.45</td>\n",
              "      <td>1011.0</td>\n",
              "      <td>84</td>\n",
              "      <td>2.44</td>\n",
              "      <td>262</td>\n",
              "      <td>True</td>\n",
              "    </tr>\n",
              "    <tr>\n",
              "      <th>3</th>\n",
              "      <td>3</td>\n",
              "      <td>26.80</td>\n",
              "      <td>26.80</td>\n",
              "      <td>26.80</td>\n",
              "      <td>1011.0</td>\n",
              "      <td>82</td>\n",
              "      <td>2.29</td>\n",
              "      <td>271</td>\n",
              "      <td>True</td>\n",
              "    </tr>\n",
              "    <tr>\n",
              "      <th>4</th>\n",
              "      <td>4</td>\n",
              "      <td>27.04</td>\n",
              "      <td>27.04</td>\n",
              "      <td>27.04</td>\n",
              "      <td>1010.0</td>\n",
              "      <td>82</td>\n",
              "      <td>1.71</td>\n",
              "      <td>274</td>\n",
              "      <td>False</td>\n",
              "    </tr>\n",
              "    <tr>\n",
              "      <th>...</th>\n",
              "      <td>...</td>\n",
              "      <td>...</td>\n",
              "      <td>...</td>\n",
              "      <td>...</td>\n",
              "      <td>...</td>\n",
              "      <td>...</td>\n",
              "      <td>...</td>\n",
              "      <td>...</td>\n",
              "      <td>...</td>\n",
              "    </tr>\n",
              "    <tr>\n",
              "      <th>264919</th>\n",
              "      <td>19</td>\n",
              "      <td>27.00</td>\n",
              "      <td>27.00</td>\n",
              "      <td>27.00</td>\n",
              "      <td>1007.0</td>\n",
              "      <td>94</td>\n",
              "      <td>4.10</td>\n",
              "      <td>300</td>\n",
              "      <td>False</td>\n",
              "    </tr>\n",
              "    <tr>\n",
              "      <th>264920</th>\n",
              "      <td>20</td>\n",
              "      <td>27.00</td>\n",
              "      <td>27.00</td>\n",
              "      <td>27.00</td>\n",
              "      <td>1007.0</td>\n",
              "      <td>94</td>\n",
              "      <td>5.70</td>\n",
              "      <td>300</td>\n",
              "      <td>False</td>\n",
              "    </tr>\n",
              "    <tr>\n",
              "      <th>264921</th>\n",
              "      <td>21</td>\n",
              "      <td>28.00</td>\n",
              "      <td>28.00</td>\n",
              "      <td>28.00</td>\n",
              "      <td>1007.0</td>\n",
              "      <td>83</td>\n",
              "      <td>6.70</td>\n",
              "      <td>290</td>\n",
              "      <td>False</td>\n",
              "    </tr>\n",
              "    <tr>\n",
              "      <th>264922</th>\n",
              "      <td>22</td>\n",
              "      <td>28.00</td>\n",
              "      <td>28.00</td>\n",
              "      <td>28.00</td>\n",
              "      <td>1007.0</td>\n",
              "      <td>83</td>\n",
              "      <td>6.20</td>\n",
              "      <td>290</td>\n",
              "      <td>False</td>\n",
              "    </tr>\n",
              "    <tr>\n",
              "      <th>264923</th>\n",
              "      <td>23</td>\n",
              "      <td>28.00</td>\n",
              "      <td>28.00</td>\n",
              "      <td>28.00</td>\n",
              "      <td>1008.0</td>\n",
              "      <td>83</td>\n",
              "      <td>5.70</td>\n",
              "      <td>300</td>\n",
              "      <td>False</td>\n",
              "    </tr>\n",
              "  </tbody>\n",
              "</table>\n",
              "<p>264924 rows × 9 columns</p>\n",
              "</div>"
            ],
            "text/plain": [
              "        hour   temp  temp_min  temp_max  pressure  humidity  wind_speed  \\\n",
              "0          0  25.82     25.82     25.82    1010.0        86        1.36   \n",
              "1          1  26.20     26.20     26.20    1011.0        84        2.09   \n",
              "2          2  26.45     26.45     26.45    1011.0        84        2.44   \n",
              "3          3  26.80     26.80     26.80    1011.0        82        2.29   \n",
              "4          4  27.04     27.04     27.04    1010.0        82        1.71   \n",
              "...      ...    ...       ...       ...       ...       ...         ...   \n",
              "264919    19  27.00     27.00     27.00    1007.0        94        4.10   \n",
              "264920    20  27.00     27.00     27.00    1007.0        94        5.70   \n",
              "264921    21  28.00     28.00     28.00    1007.0        83        6.70   \n",
              "264922    22  28.00     28.00     28.00    1007.0        83        6.20   \n",
              "264923    23  28.00     28.00     28.00    1008.0        83        5.70   \n",
              "\n",
              "        wind_deg  raining  \n",
              "0            225     True  \n",
              "1            247     True  \n",
              "2            262     True  \n",
              "3            271     True  \n",
              "4            274    False  \n",
              "...          ...      ...  \n",
              "264919       300    False  \n",
              "264920       300    False  \n",
              "264921       290    False  \n",
              "264922       290    False  \n",
              "264923       300    False  \n",
              "\n",
              "[264924 rows x 9 columns]"
            ]
          },
          "execution_count": 2,
          "metadata": {},
          "output_type": "execute_result"
        }
      ],
      "source": [
        "data = pd.read_csv(\"openweatherdata-denpasar-1990-2020v0.1-simplified.csv\")\n",
        "data"
      ]
    },
    {
      "cell_type": "code",
      "execution_count": 3,
      "metadata": {
        "id": "4cr3E6_OPvG1",
        "scrolled": false
      },
      "outputs": [],
      "source": [
        "X = data.drop(columns=\"raining\")\n",
        "y = data[\"raining\"].copy()\n",
        "\n",
        "X_train, X_test, y_train, y_test = train_test_split(X, y, test_size=0.2, random_state=123)\n",
        "X_train, X_val, y_train, y_val = train_test_split(X_train, y_train, test_size=0.2, random_state=123)\n",
        "\n",
        "df_train = pd.concat([X_train, y_train], axis=1)\n",
        "df_val = pd.concat([X_val, y_val], axis=1)\n",
        "df_test = pd.concat([X_test, y_test], axis=1)"
      ]
    },
    {
      "cell_type": "markdown",
      "metadata": {
        "id": "o4PoTMDEPvG2"
      },
      "source": [
        "# Soal"
      ]
    },
    {
      "cell_type": "markdown",
      "metadata": {
        "id": "d2_GtwVRPvG3"
      },
      "source": [
        "Disediakan data yang sudah dibagi menjadi data latih (`df_train`), data validasi (`df_val`), dan data uji (`df_test`).\n",
        "\n",
        "**Bagian 1**: (batas waktu: 17 April 2023, 10.59 WIB)\n",
        "\n",
        "1. Buatlah _baseline_ dengan menggunakan model _logistic regression_.\n",
        "2. Lakukan analisis data terkait hal berikut:\n",
        "    - _duplicate value_,\n",
        "    - _missing value_,\n",
        "    - _outlier_,\n",
        "    - _balance of data_.\n",
        "3. Jelaskan rencana penanganan yang ada pada poin 2.\n",
        "4. Jelaskan teknik _encoding_ yang digunakan terhadap data yang disediakan, disertai dengan alasan.\n",
        "5. Buatlah desain eksperimen dengan menentukan hal berikut:\n",
        "    - tujuan eksperimen,\n",
        "    - variabel dependen dan independen,\n",
        "    - strategi eksperimen,\n",
        "    - skema validasi.\n",
        "    \n",
        "**Bagian 2**: (batas waktu: 17 April 2023, 23.59 WIB)\n",
        "\n",
        "6. Implementasikan strategi eksperimen dan skema validasi yang telah ditentukan pada poin 5.\n",
        "7. Berdasarkan hasil prediksi yang dihasilkan, buatlah kesimpulan analisis karakteristik kondisi hujan.\n",
        "\n",
        "---\n",
        "\n",
        "Jika terdapat perubahan jawaban pada poin 1—5 (contoh: perbedaan penanganan _outlier_), jelaskan pada laporan mengenai jawaban sebelum, jawaban sesudah, dan alasan pengubahan jawaban."
      ]
    },
    {
      "cell_type": "markdown",
      "metadata": {
        "id": "NVYrqfCSPvG5"
      },
      "source": [
        "Pada sel ini, jelaskan pembagian tugas/kerja per anggota kelompok dalam eksperimen."
      ]
    },
    {
      "cell_type": "markdown",
      "metadata": {
        "id": "CjXuMs6gPvG5"
      },
      "source": [
        "# _Deliverable_"
      ]
    },
    {
      "cell_type": "markdown",
      "metadata": {
        "id": "CJtyRv-aPvG6"
      },
      "source": [
        "_Deliverable_ yang akan dihasilkan adalah sebagai berikut:\n",
        "1. berkas _notebook_ dengan format nama `PraktikumIF3270_M1_NIM1_NIM2.ipynb` untuk Bagian 1;\n",
        "2. berkas _notebook_ dengan format nama `PraktikumIF3270_M2_NIM1_NIM2.ipynb` untuk Bagian 1 + Bagian 2; serta\n",
        "3. berkas laporan dengan format nama `PraktikumIF3270_NIM1_NIM2.pdf` yang mencakup hal berikut:\n",
        "    - hasil analisis data,\n",
        "    - penanganan dari hasil analisis data,\n",
        "    - justifikasi teknik-teknik yang dipilih,\n",
        "    - perubahan yang dilakukan pada jawaban poin 1—5 jika ada,\n",
        "    - desain eksperimen,\n",
        "    - hasil eksperimen.\n",
        "    - analisis dari hasil eksperimen,\n",
        "    - kesimpulan,\n",
        "    - pembagian tugas/kerja per anggota kelompok\n",
        "\n",
        "Batas waktu pengumpulan:\n",
        "- _Deliverable_ poin 1: Senin, 17 April 2023, pukul 10.59 WIB\n",
        "- _Deliverable_ poin 2: Senin, 17 April 2023, pukul 23.59 WIB\n",
        "- _Deliverable_ poin 3: Senin, 17 April 2023, pukul 23.59 WIB"
      ]
    },
    {
      "cell_type": "markdown",
      "metadata": {
        "id": "Q1QQcoelPzJf"
      },
      "source": [
        "# 1. Baseline Logistic Regression"
      ]
    },
    {
      "cell_type": "code",
      "execution_count": 4,
      "metadata": {
        "colab": {
          "base_uri": "https://localhost:8080/"
        },
        "id": "c4mQizToPvG6",
        "outputId": "327fa3bf-a840-4669-ad82-40eceb765730"
      },
      "outputs": [
        {
          "name": "stdout",
          "output_type": "stream",
          "text": [
            "Evaluasi dari model logistic regression dengan data test: \n",
            "              precision    recall  f1-score   support\n",
            "\n",
            "       False       0.88      0.99      0.93     45994\n",
            "        True       0.58      0.13      0.21      6991\n",
            "\n",
            "    accuracy                           0.87     52985\n",
            "   macro avg       0.73      0.56      0.57     52985\n",
            "weighted avg       0.84      0.87      0.84     52985\n",
            "\n",
            "Accuracy:  0.8728508068321224\n",
            "Precision:  0.5824675324675325\n",
            "Recall:  0.12830782434558718\n",
            "F1 Score:  0.21029187668503105\n",
            "Evaluasi dari model logistic regression dengan data validation: \n",
            "              precision    recall  f1-score   support\n",
            "\n",
            "       False       0.88      0.99      0.93     36791\n",
            "        True       0.59      0.14      0.22      5597\n",
            "\n",
            "    accuracy                           0.87     42388\n",
            "   macro avg       0.74      0.56      0.58     42388\n",
            "weighted avg       0.84      0.87      0.84     42388\n",
            "\n",
            "Accuracy:  0.8736198924223837\n",
            "Precision:  0.5940438871473355\n",
            "Recall:  0.13542969447918526\n",
            "F1 Score:  0.22057325767495994\n"
          ]
        }
      ],
      "source": [
        "# 1. Buatlah baseline dengan menggunakan model logistic regression.\n",
        "from sklearn.linear_model import LogisticRegression\n",
        "from sklearn.metrics import accuracy_score\n",
        "\n",
        "lr = LogisticRegression(random_state=42)\n",
        "\n",
        "lr.fit(X_train, y_train)\n",
        "\n",
        "## Predict data test\n",
        "y_pred_test = lr.predict(X_test)\n",
        "\n",
        "print(\"Evaluasi dari model logistic regression dengan data test: \")\n",
        "print(classification_report(y_test, y_pred_test))\n",
        "print('Accuracy: ', accuracy_score(y_test, y_pred_test))\n",
        "print('Precision: ', precision_score(y_test, y_pred_test))\n",
        "print('Recall: ', recall_score(y_test, y_pred_test))\n",
        "print('F1 Score: ', f1_score(y_test, y_pred_test))\n",
        "\n",
        "## Predict data validation\n",
        "y_pred_val = lr.predict(X_val)\n",
        "\n",
        "print(\"Evaluasi dari model logistic regression dengan data validation: \")\n",
        "print(classification_report(y_val, y_pred_val))\n",
        "print('Accuracy: ', accuracy_score(y_val, y_pred_val))\n",
        "print('Precision: ', precision_score(y_val, y_pred_val))\n",
        "print('Recall: ', recall_score(y_val, y_pred_val))\n",
        "print('F1 Score: ', f1_score(y_val, y_pred_val))"
      ]
    },
    {
      "cell_type": "markdown",
      "metadata": {
        "id": "wEvUwTbIQI4O"
      },
      "source": [
        "# 2 dan 3"
      ]
    },
    {
      "cell_type": "markdown",
      "metadata": {
        "id": "Jf3M46-xQVVc"
      },
      "source": [
        "## Analisis dan Rencana Penanganan\n"
      ]
    },
    {
      "cell_type": "code",
      "execution_count": 5,
      "metadata": {
        "colab": {
          "base_uri": "https://localhost:8080/",
          "height": 270
        },
        "id": "Zx7_i3ewGOwt",
        "outputId": "41571f63-fd63-4fe4-af99-8b4b67c43f57"
      },
      "outputs": [
        {
          "data": {
            "text/html": [
              "<div>\n",
              "<style scoped>\n",
              "    .dataframe tbody tr th:only-of-type {\n",
              "        vertical-align: middle;\n",
              "    }\n",
              "\n",
              "    .dataframe tbody tr th {\n",
              "        vertical-align: top;\n",
              "    }\n",
              "\n",
              "    .dataframe thead th {\n",
              "        text-align: right;\n",
              "    }\n",
              "</style>\n",
              "<table border=\"1\" class=\"dataframe\">\n",
              "  <thead>\n",
              "    <tr style=\"text-align: right;\">\n",
              "      <th></th>\n",
              "      <th>hour</th>\n",
              "      <th>temp</th>\n",
              "      <th>temp_min</th>\n",
              "      <th>temp_max</th>\n",
              "      <th>pressure</th>\n",
              "      <th>humidity</th>\n",
              "      <th>wind_speed</th>\n",
              "      <th>wind_deg</th>\n",
              "      <th>raining</th>\n",
              "    </tr>\n",
              "  </thead>\n",
              "  <tbody>\n",
              "    <tr>\n",
              "      <th>0</th>\n",
              "      <td>0</td>\n",
              "      <td>25.82</td>\n",
              "      <td>25.82</td>\n",
              "      <td>25.82</td>\n",
              "      <td>1010.0</td>\n",
              "      <td>86</td>\n",
              "      <td>1.36</td>\n",
              "      <td>225</td>\n",
              "      <td>True</td>\n",
              "    </tr>\n",
              "    <tr>\n",
              "      <th>1</th>\n",
              "      <td>1</td>\n",
              "      <td>26.20</td>\n",
              "      <td>26.20</td>\n",
              "      <td>26.20</td>\n",
              "      <td>1011.0</td>\n",
              "      <td>84</td>\n",
              "      <td>2.09</td>\n",
              "      <td>247</td>\n",
              "      <td>True</td>\n",
              "    </tr>\n",
              "    <tr>\n",
              "      <th>2</th>\n",
              "      <td>2</td>\n",
              "      <td>26.45</td>\n",
              "      <td>26.45</td>\n",
              "      <td>26.45</td>\n",
              "      <td>1011.0</td>\n",
              "      <td>84</td>\n",
              "      <td>2.44</td>\n",
              "      <td>262</td>\n",
              "      <td>True</td>\n",
              "    </tr>\n",
              "    <tr>\n",
              "      <th>3</th>\n",
              "      <td>3</td>\n",
              "      <td>26.80</td>\n",
              "      <td>26.80</td>\n",
              "      <td>26.80</td>\n",
              "      <td>1011.0</td>\n",
              "      <td>82</td>\n",
              "      <td>2.29</td>\n",
              "      <td>271</td>\n",
              "      <td>True</td>\n",
              "    </tr>\n",
              "    <tr>\n",
              "      <th>4</th>\n",
              "      <td>4</td>\n",
              "      <td>27.04</td>\n",
              "      <td>27.04</td>\n",
              "      <td>27.04</td>\n",
              "      <td>1010.0</td>\n",
              "      <td>82</td>\n",
              "      <td>1.71</td>\n",
              "      <td>274</td>\n",
              "      <td>False</td>\n",
              "    </tr>\n",
              "  </tbody>\n",
              "</table>\n",
              "</div>"
            ],
            "text/plain": [
              "   hour   temp  temp_min  temp_max  pressure  humidity  wind_speed  wind_deg  \\\n",
              "0     0  25.82     25.82     25.82    1010.0        86        1.36       225   \n",
              "1     1  26.20     26.20     26.20    1011.0        84        2.09       247   \n",
              "2     2  26.45     26.45     26.45    1011.0        84        2.44       262   \n",
              "3     3  26.80     26.80     26.80    1011.0        82        2.29       271   \n",
              "4     4  27.04     27.04     27.04    1010.0        82        1.71       274   \n",
              "\n",
              "   raining  \n",
              "0     True  \n",
              "1     True  \n",
              "2     True  \n",
              "3     True  \n",
              "4    False  "
            ]
          },
          "execution_count": 5,
          "metadata": {},
          "output_type": "execute_result"
        }
      ],
      "source": [
        "data.head()"
      ]
    },
    {
      "cell_type": "markdown",
      "metadata": {
        "id": "o1OwgvY5_bTz"
      },
      "source": [
        "## Duplicate Value"
      ]
    },
    {
      "cell_type": "markdown",
      "metadata": {
        "id": "c02Cw1rZJ0-g"
      },
      "source": [
        "Tidak terdapat banyak nilai duplikat pada masing-masing kolom, sehingga tidak akan dilakukan penanganan khusus mengenai nilai duplikat tiap kolom.\n",
        "\n",
        "Selain itu, terdapat beberapa entry yang duplikat. Hal ini akan dibahas lebih lanjut di balance data, karena kita ingin memastikan keseimbangan yang benar pada target."
      ]
    },
    {
      "cell_type": "markdown",
      "metadata": {
        "id": "rOM_fp-xHSCI"
      },
      "source": [
        "Berikut jumlah value unik untuk tiap kolom"
      ]
    },
    {
      "cell_type": "code",
      "execution_count": 6,
      "metadata": {
        "colab": {
          "base_uri": "https://localhost:8080/"
        },
        "id": "6f_TjLU-9C9Z",
        "outputId": "4c2b149c-e2cc-42ed-a771-d8509a211e35"
      },
      "outputs": [
        {
          "data": {
            "text/plain": [
              "hour            24\n",
              "temp          1221\n",
              "temp_min       729\n",
              "temp_max       721\n",
              "pressure       170\n",
              "humidity        66\n",
              "wind_speed    1093\n",
              "wind_deg       361\n",
              "dtype: int64"
            ]
          },
          "execution_count": 6,
          "metadata": {},
          "output_type": "execute_result"
        }
      ],
      "source": [
        "X.nunique(axis=0)"
      ]
    },
    {
      "cell_type": "markdown",
      "metadata": {
        "id": "ewb48Mu5I3zZ"
      },
      "source": [
        "Berikut jumlah entry yang unik pada data."
      ]
    },
    {
      "cell_type": "code",
      "execution_count": 7,
      "metadata": {
        "colab": {
          "base_uri": "https://localhost:8080/"
        },
        "id": "BV8FBByUIP7Y",
        "outputId": "e3b9e9c8-2093-4eb8-8fd4-ead3369a6b95"
      },
      "outputs": [
        {
          "name": "stdout",
          "output_type": "stream",
          "text": [
            "Jumlah entry yang duplikat: 7253\n",
            "Jumlah entry yang tidak duplikat: 257671\n",
            "Jumlah total row: 264924\n"
          ]
        }
      ],
      "source": [
        "print(f\"Jumlah entry yang duplikat: {data[data.duplicated()].shape[0]}\")\n",
        "print(f\"Jumlah entry yang tidak duplikat: {data.drop_duplicates().shape[0]}\")\n",
        "print(f\"Jumlah total row: {data.shape[0]}\")"
      ]
    },
    {
      "cell_type": "markdown",
      "metadata": {
        "id": "F3vaFObc_jt0"
      },
      "source": [
        "## Missing Value"
      ]
    },
    {
      "cell_type": "markdown",
      "metadata": {
        "id": "1dfcm4OxL56t"
      },
      "source": [
        "Tidak terdapat missing value pada bagian X dataset."
      ]
    },
    {
      "cell_type": "code",
      "execution_count": 8,
      "metadata": {
        "colab": {
          "base_uri": "https://localhost:8080/"
        },
        "id": "EqsRJj6i_Xx2",
        "outputId": "b0e3d83b-4308-4403-fb34-b3d8347495c7"
      },
      "outputs": [
        {
          "data": {
            "text/plain": [
              "hour          0\n",
              "temp          0\n",
              "temp_min      0\n",
              "temp_max      0\n",
              "pressure      0\n",
              "humidity      0\n",
              "wind_speed    0\n",
              "wind_deg      0\n",
              "dtype: int64"
            ]
          },
          "execution_count": 8,
          "metadata": {},
          "output_type": "execute_result"
        }
      ],
      "source": [
        "X.isna().sum()"
      ]
    },
    {
      "cell_type": "markdown",
      "metadata": {
        "id": "Tlhle25mAI7w"
      },
      "source": [
        "## Outlier"
      ]
    },
    {
      "cell_type": "markdown",
      "metadata": {
        "id": "PdJa39W0MNlN"
      },
      "source": [
        "Outlier pada data bisa berdampak buruk pada model. Oleh karena itu, diperlukan penanganan outlier. Berikut cara-cara penanganan outlier:\n",
        "\n",
        " - Normalisasi\n",
        " - Penghapusan outlier\n",
        " - Transformasi\n",
        "\n",
        "Pada eksperimen ini, akan digunakan penghapusan outlier. Namun, masih perlu dilakukan pengetesan lebih lanjut nantinya."
      ]
    },
    {
      "cell_type": "code",
      "execution_count": 9,
      "metadata": {
        "colab": {
          "base_uri": "https://localhost:8080/"
        },
        "id": "PS_q5lGU_2h6",
        "outputId": "fd00e6df-ef3b-406d-b538-edeb96dab2c6"
      },
      "outputs": [
        {
          "name": "stdout",
          "output_type": "stream",
          "text": [
            "Number of outlier for hour       : 0\n",
            "Number of outlier for temp       : 1458\n",
            "Number of outlier for temp_min   : 1716\n",
            "Number of outlier for temp_max   : 547\n",
            "Number of outlier for pressure   : 1067\n",
            "Number of outlier for humidity   : 231\n",
            "Number of outlier for wind_speed : 3439\n",
            "Number of outlier for wind_deg   : 0\n"
          ]
        }
      ],
      "source": [
        "from IPython.display import display, HTML\n",
        "\n",
        "def get_outlier(df_column):\n",
        "  Q1 = df_column.quantile(0.25)\n",
        "  Q3 = df_column.quantile(0.75)\n",
        "  IQR = Q3 - Q1\n",
        "  LB = Q1 - 1.5 * IQR\n",
        "  UB = Q3 + 1.5 * IQR\n",
        "  return df_column.loc[(df_column < LB) | (df_column > UB)]\n",
        "\n",
        "for col in X.columns:\n",
        "  print(f\"Number of outlier for {col:<11}: {get_outlier(X[col]).count()}\")"
      ]
    },
    {
      "cell_type": "markdown",
      "metadata": {
        "id": "X2yVkIQSF3ii"
      },
      "source": [
        "## Balance of Data"
      ]
    },
    {
      "cell_type": "markdown",
      "metadata": {
        "id": "2s9hbGX5O8vW"
      },
      "source": [
        "Dari hasil kode dibawah, terlihat bahwa ada sedikit data raining yang bernilai true. Ketidakseimbangan ini akan ditangani dengan melakukan oversampling."
      ]
    },
    {
      "cell_type": "code",
      "execution_count": 10,
      "metadata": {
        "colab": {
          "base_uri": "https://localhost:8080/"
        },
        "id": "P433ACZ6GDl-",
        "outputId": "5d3d4a27-434c-4cd7-f4a0-7a5c77f249c7"
      },
      "outputs": [
        {
          "data": {
            "text/plain": [
              "False    230023\n",
              "True      34901\n",
              "Name: raining, dtype: int64"
            ]
          },
          "execution_count": 10,
          "metadata": {},
          "output_type": "execute_result"
        }
      ],
      "source": [
        "y.value_counts()"
      ]
    },
    {
      "cell_type": "code",
      "execution_count": 11,
      "metadata": {
        "colab": {
          "base_uri": "https://localhost:8080/"
        },
        "id": "G6J1f5I5FNJR",
        "outputId": "f9407751-321d-4934-db0b-a4a5d5111b0f"
      },
      "outputs": [
        {
          "data": {
            "text/plain": [
              "False    0.86826\n",
              "True     0.13174\n",
              "Name: raining, dtype: float64"
            ]
          },
          "execution_count": 11,
          "metadata": {},
          "output_type": "execute_result"
        }
      ],
      "source": [
        "y.value_counts() / y.count()"
      ]
    },
    {
      "cell_type": "code",
      "execution_count": 12,
      "metadata": {
        "colab": {
          "base_uri": "https://localhost:8080/",
          "height": 54
        },
        "id": "X24D3IpkFp2c",
        "outputId": "a302a2ce-b88c-47ac-9954-53b236772c45"
      },
      "outputs": [
        {
          "name": "stderr",
          "output_type": "stream",
          "text": [
            "C:\\Users\\ghazian tsabit\\AppData\\Local\\Temp\\ipykernel_11480\\649759206.py:14: UserWarning: Matplotlib is currently using module://matplotlib_inline.backend_inline, which is a non-GUI backend, so cannot show the figure.\n",
            "  fig.show()\n"
          ]
        },
        {
          "data": {
            "image/png": "[encoded data removed]",
            "text/plain": [
              "<Figure size 864x3456 with 8 Axes>"
            ]
          },
          "metadata": {
            "needs_background": "light"
          },
          "output_type": "display_data"
        }
      ],
      "source": [
        "import matplotlib.pyplot as plt\n",
        "plt.style.use('ggplot')\n",
        "\n",
        "fig, axes = plt.subplots(nrows=len(data.columns) - 1, ncols=1, figsize=(12, (len(data.columns) - 1) * 6))\n",
        "for i, col in enumerate(data.columns):\n",
        "  if col == 'raining':\n",
        "    continue\n",
        "  data[~data['raining']][col].plot.hist(ax=axes[i], label='Not Raining', color='tab:blue')\n",
        "  data[data['raining']][col].plot.hist(ax=axes[i], label='Raining', color='tab:orange')\n",
        "  axes[i].set_title(col)\n",
        "  axes[i].legend()\n",
        "\n",
        "# show the plot\n",
        "fig.show()"
      ]
    },
    {
      "cell_type": "markdown",
      "metadata": {
        "id": "hKWSFVMVPvG8"
      },
      "source": [
        "# 4. Jelaskan teknik encoding yang digunakan terhadap data yang disediakan, disertai dengan alasan.\n",
        "\n",
        "Teknik encoding yang tepat untuk digunakan terhadap data yang disediakan adalah dengan melakukan scaling dengan MinMaxScaler. Hal ini dikarenakan tipe data dari setiap fitur yang tersedia berupa tipe data numerikal yang memiliki nilai kontinu. Dengan encoding menggunakan metode scaling, maka data akan \n",
        "diubah ke rentang 0 sampai 1.\n"
      ]
    },
    {
      "attachments": {},
      "cell_type": "markdown",
      "metadata": {
        "id": "sTrTfQR9PvG8"
      },
      "source": [
        "# 5. Buatlah desain eksperimen dengan menentukan hal berikut:\n",
        "## Tujuan Eksperimen\n",
        "\n",
        "Tujuan eksperimen adalah untuk mencari model yang lebih baik atau meningkatkan kinerja dari model baseline (logistic regression) yang telah digunakan. Sebuah model dikatakan lebih baik apabila\n",
        "memiliki nilai metrik yang lebih tinggi daripada model baseline. \n",
        "\n",
        "## Variabel dependen dan independen\n",
        "\n",
        "Variable dependen pada eksperimen kali ini adalah 'raining' sedangkan variable independen pada eksperimen kali ini adalah 'hour', 'temp', 'temp_min', 'temp_max', 'pressure','humidity', 'wind_speed', 'wind_deg'.\n",
        "\n",
        "## Strategi eksperimen\n",
        "\n",
        "Strategi eksperimen yang akan digunakan adalah strategi Oversampling. Hal ini dikarenakan dataset yang tersedia tidak memiliki balance yang baik, data dengan kelas False sejumlah 86% dan data dengan kelas True sejumlah 14%. Dengan dilakukannya strategi Oversampling maka data dengan kelas True akan diduplikat sehingga memiliki jumlah yang sama dengan data dengan kelas False. Setelah dilakukan Oversampling kemudian algoritma yang digunakan untuk proses pembelajaran adalah algoritma DTL (Decision Tree Learning).\n",
        "\n",
        "## Skema validasi\n",
        "\n",
        "Skema validasi yang akan dilakukan pada eksperimen kali ini adalah dengan metode Cross-validation dengan membagi data set menjadi beberapa subset (k-fold) dan model dilatih pada subset tertentu dan diuji pada subset yang lain. Kemudian hasil pengujian dihitung secara rata-rata dari seluruh subset. Jumlah subset yang digunakan adalah sebanyak 5."
      ]
    },
    {
      "attachments": {},
      "cell_type": "markdown",
      "metadata": {
        "id": "SHQ8WllttVDV"
      },
      "source": [
        "# 6. Implementasi Eksperimen"
      ]
    },
    {
      "cell_type": "code",
      "execution_count": 13,
      "metadata": {
        "colab": {
          "base_uri": "https://localhost:8080/"
        },
        "id": "hkxFBQOFtWAT",
        "outputId": "f2d1f82b-47cb-4af3-d68d-88c0ff9d5bd9"
      },
      "outputs": [
        {
          "name": "stdout",
          "output_type": "stream",
          "text": [
            "Hasil Cross Validation menggunakan Logistic Regression\n",
            "mean fit_time       : 1.185221529006958\n",
            "mean score_time     : 0.03492031097412109\n",
            "mean test_accuracy  : 0.8725634750353326\n",
            "mean test_precision : 0.5689172221266647\n",
            "mean test_recall    : 0.13074331105017345\n",
            "mean test_f1        : 0.20974316792545605\n",
            "\n",
            "Hasil Cross Validation menggunakan Oversampling dan Decision Tree\n",
            "mean fit_time       : 2.090448760986328\n",
            "mean score_time     : 0.05446577072143555\n",
            "mean test_accuracy  : 0.8319141647964974\n",
            "mean test_precision : 0.38079860560616857\n",
            "mean test_recall    : 0.38422601009945534\n",
            "mean test_f1        : 0.37180199885164644\n",
            "\n",
            "Hasil Cross Validation menggunakan Oversampling dan Logistic Regression\n",
            "mean fit_time       : 1.9551223278045655\n",
            "mean score_time     : 0.03863983154296875\n",
            "mean test_accuracy  : 0.7100680501922869\n",
            "mean test_precision : 0.27980184773605077\n",
            "mean test_recall    : 0.7403809767732229\n",
            "mean test_f1        : 0.4043036427069594\n"
          ]
        }
      ],
      "source": [
        "from imblearn.over_sampling import RandomOverSampler\n",
        "from imblearn.pipeline import make_pipeline\n",
        "from sklearn.linear_model import LogisticRegression\n",
        "from sklearn.model_selection import cross_validate\n",
        "from sklearn.tree import DecisionTreeClassifier\n",
        "\n",
        "scorers = ['accuracy', 'precision', 'recall', 'f1']\n",
        "\n",
        "lr = LogisticRegression(random_state=42, max_iter=1000)\n",
        "\n",
        "# Baseline\n",
        "base_cv_results = cross_validate(lr, X, y, cv=5, scoring=scorers)\n",
        "print(\"Hasil Cross Validation menggunakan Logistic Regression\")\n",
        "for key, value in base_cv_results.items():\n",
        "  print(f\"mean {key:<15}: {value.mean()}\")\n",
        "print()\n",
        "\n",
        "over_sampler = RandomOverSampler(random_state = 42)\n",
        "dtc = DecisionTreeClassifier(random_state=42)\n",
        "pipeline_dtc = make_pipeline(over_sampler, dtc)\n",
        "\n",
        "dtc_cv_results = cross_validate(pipeline_dtc, X, y, cv=5, scoring=scorers)\n",
        "print(\"Hasil Cross Validation menggunakan Oversampling dan Decision Tree\")\n",
        "for key, value in dtc_cv_results.items():\n",
        "  print(f\"mean {key:<15}: {value.mean()}\")\n",
        "print()\n",
        "\n",
        "over_sampler = RandomOverSampler(random_state = 42)\n",
        "lr = LogisticRegression(random_state=42, max_iter=1000)\n",
        "pipeline_lr = make_pipeline(over_sampler, lr)\n",
        "\n",
        "lr_cv_results = cross_validate(pipeline_lr, X, y, cv=5, scoring=scorers)\n",
        "print(\"Hasil Cross Validation menggunakan Oversampling dan Logistic Regression\")\n",
        "for key, value in lr_cv_results.items():\n",
        "  print(f\"mean {key:<15}: {value.mean()}\")"
      ]
    },
    {
      "attachments": {},
      "cell_type": "markdown",
      "metadata": {},
      "source": [
        "# 7. Kesimpulan analisis karakteristik kondisi hujan.\n",
        "\n",
        "Berdasarkan hasil eksperimen yang telah dilakukan dengan menggunakan strategi Oversampling dan penggunaan algoritma pembelajaran DTL, didapatkan kesimpulan bahwa nilai dari metrik recall dan f1-score lebih tinggi daripada model baseline (logistic regression) setelah dilakukan cross-validation. Hal ini menandakan bahwa model yang dihasilkan pada proses eksperimen lebih baik dalam mengidentifikasi kasus positif, dengan meminimalkan jumlah false negative (recall). Selain itu, model hasi eksperimen juga lebih baik dalam mengklasifikasikan kasus positif dan negatif dengan benar secara seimbang (f1-score). Namun, untuk metrik precision dan accuracy,  model baseline memiliki nilai yang lebih tinggi. Hal ini menandakan bahwa model baseline lebih baik dalam mengklasifikasikan kasus positif dengan benar dan lebih baik dalam mengklasifikasikan kasus secara benar, baik positif maupun negatif."
      ]
    }
  ],
  "metadata": {
    "colab": {
      "collapsed_sections": [
        "IqRCrNfcPvGt",
        "J89UMHiQPvGy",
        "CjXuMs6gPvG5",
        "wEvUwTbIQI4O"
      ],
      "provenance": []
    },
    "kernelspec": {
      "display_name": "Python 3 (ipykernel)",
      "language": "python",
      "name": "python3"
    },
    "language_info": {
      "codemirror_mode": {
        "name": "ipython",
        "version": 3
      },
      "file_extension": ".py",
      "mimetype": "text/x-python",
      "name": "python",
      "nbconvert_exporter": "python",
      "pygments_lexer": "ipython3",
      "version": "3.10.4"
    }
  },
  "nbformat": 4,
  "nbformat_minor": 0
}
